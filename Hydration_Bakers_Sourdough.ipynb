{
 "cells": [
  {
   "cell_type": "code",
   "execution_count": 61,
   "metadata": {},
   "outputs": [],
   "source": [
    "#### Calculating mixing water for autolyse in making Sourdough Bread ####\n",
    "\n",
    "import sympy as sp\n",
    "\n",
    "### Define variables\n",
    "w1, w2, f1, f2, x, y, xh, L, z, ft, fl, fw, t, p = sp.symbols('w1 w2 f1 f2 x y xh L ft z fl fw t p')\n",
    "\n",
    "## Needed Equations ##\n",
    "expr1 = sp.Eq((w1 + w2) / (f1 + f2) * 100,80)  ### Bakers % for hydration level. 80 % desire hydration ####\n",
    "expr2 = sp.Eq(w1/f1 + p*f1,80)  ### Bakers % for hydration level. 80 % desire hydration ####  p*f1 = L\n",
    "\n",
    "expr3 = sp.Eq(x*f1, w1)\n",
    "expr4 = sp.Eq(y*f2, w2)\n",
    "expr5 = sp.Eq(t*(f1), L ) ## % Levain  Z*(f1 + f2)\n",
    "expr6 = sp.Eq(f1 + f2, ft)  ### Total flour\n",
    "expr7 = sp.Eq(w1 + w2, fw)  ##Total water\n",
    "lvain = sp.Eq(1*f2 + f2,L)  ## Had to plug in hydration value for levain; 100% hydration Levain with 100 grams or L.\n",
    "lvain2 = sp.Eq(y*f2 + f2,L)\n",
    "### Subsitution of variables\n",
    "#df4 = expr1.subs(w1,x*f1)  ### Solve equation in terms of x*f1; mixing flour\n",
    "df5 = expr1.subs(w2,y*f2)   ### Solve equation for 100% hydration Levain, y = 1\n",
    "\n",
    "\n",
    "## L = x*f2 + f2; 100% hydration, x=1\n",
    "\n",
    "### Solve for equations\n",
    "df6 = sp.solve(df5,w1)[0]\n",
    "df7 = sp.solve(lvain,f2)[0]\n",
    "df11 = sp.solve(expr5,L)[0]\n",
    "\n",
    " ##levain solve for f2 in terms of L\n",
    "d = sp.Eq(y*f2 + f2,L)\n",
    "d2 = sp.solve(d, f2)[0]\n",
    "d3 = sp.Eq(d2, f2)\n",
    "\n",
    "## Hw much water needed to autolyse ##\n",
    "df8 = sp.Eq(df6,w1)\n",
    "df9 = df8.subs(f2, df7)\n",
    "df12 = df9.subs(L,df11)\n",
    "\n",
    "df13 = sp.solve(df12, t)[0]\n",
    "df14 = sp.solve(expr3,w1)[0]\n",
    "df20 = df13.subs(w1,df14)\n",
    "\n",
    "#df10\n",
    "## Hydration level before Levain ##\n",
    "#df10 = sp.solve(df9,x)\n",
    "\n",
    "### Total hydration level of Sourdough \n",
    "#rint(\"****%hydration for autolyse:\",df10, end='\\n')\n",
    "#print(\"****water needed for autolyse:\", df9)\n",
    "\n"
   ]
  },
  {
   "cell_type": "code",
   "execution_count": null,
   "metadata": {},
   "outputs": [],
   "source": []
  },
  {
   "cell_type": "markdown",
   "metadata": {},
   "source": [
    "#         Baker's Hydration: Sourdough\n",
    "\n",
    "                    ( Calculating Autolyse)"
   ]
  },
  {
   "cell_type": "markdown",
   "metadata": {},
   "source": [
    "##### Hydration is influnce by the amount of water introduced to flour.\n",
    "\n",
    "Therefore, any component containing water (and flour) need to be\n",
    " accounted.\n",
    " So, lets make a dough at 80% hydration from the Baker's Hydration definition.\n",
    " \n",
    " (Total_water/Total_flour)*100 = Hydration %"
   ]
  },
  {
   "cell_type": "code",
   "execution_count": 30,
   "metadata": {},
   "outputs": [
    {
     "data": {
      "text/latex": [
       "$\\displaystyle \\frac{100 \\left(w_{1} + w_{2}\\right)}{f_{1} + f_{2}} = 80$"
      ],
      "text/plain": [
       "Eq(100*(w1 + w2)/(f1 + f2), 80)"
      ]
     },
     "execution_count": 30,
     "metadata": {},
     "output_type": "execute_result"
    }
   ],
   "source": [
    "expr1"
   ]
  },
  {
   "cell_type": "markdown",
   "metadata": {},
   "source": [
    "##### The amount of flour and water (or hydration level) of the levain influences the overall hydration level.\n",
    "Levain Equation:\n",
    "\n",
    "    w2 = y*f2                  \"How much water to add to desired hydration level\""
   ]
  },
  {
   "cell_type": "markdown",
   "metadata": {},
   "source": [
    "##### levain = f2 + y*f2; again, hydration depends on flour used\n",
    "f2: is the flour (grams)\n",
    "\n",
    "y: hydration percentage"
   ]
  },
  {
   "cell_type": "raw",
   "metadata": {},
   "source": [
    "sp.Eq(y*f2 + f2,L)"
   ]
  },
  {
   "cell_type": "markdown",
   "metadata": {},
   "source": [
    "##### Levain Equation: Assume 100% hydration\n",
    "\n",
    "y = 1"
   ]
  },
  {
   "cell_type": "code",
   "execution_count": 49,
   "metadata": {},
   "outputs": [
    {
     "data": {
      "text/latex": [
       "$\\displaystyle 2 f_{2} = L$"
      ],
      "text/plain": [
       "Eq(2*f2, L)"
      ]
     },
     "execution_count": 49,
     "metadata": {},
     "output_type": "execute_result"
    }
   ],
   "source": [
    "lvain"
   ]
  },
  {
   "cell_type": "markdown",
   "metadata": {},
   "source": [
    "##### If you want to see what expression looks like if hydration of levain not given"
   ]
  },
  {
   "cell_type": "code",
   "execution_count": 62,
   "metadata": {
    "scrolled": true
   },
   "outputs": [
    {
     "data": {
      "text/latex": [
       "$\\displaystyle \\frac{L}{y + 1} = f_{2}$"
      ],
      "text/plain": [
       "Eq(L/(y + 1), f2)"
      ]
     },
     "execution_count": 62,
     "metadata": {},
     "output_type": "execute_result"
    }
   ],
   "source": [
    "d3 "
   ]
  },
  {
   "cell_type": "code",
   "execution_count": null,
   "metadata": {},
   "outputs": [],
   "source": []
  },
  {
   "cell_type": "markdown",
   "metadata": {},
   "source": [
    "#####  The above equation can be substituted  into Baker's Hydration Equation\n",
    "\n",
    "##### ****Remember, levain water (grams) depends on your choice of flour used (grams)"
   ]
  },
  {
   "cell_type": "code",
   "execution_count": 31,
   "metadata": {},
   "outputs": [
    {
     "data": {
      "text/latex": [
       "$\\displaystyle \\frac{100 \\left(f_{2} y + w_{1}\\right)}{f_{1} + f_{2}} = 80$"
      ],
      "text/plain": [
       "Eq(100*(f2*y + w1)/(f1 + f2), 80)"
      ]
     },
     "execution_count": 31,
     "metadata": {},
     "output_type": "execute_result"
    }
   ],
   "source": [
    "df5"
   ]
  },
  {
   "cell_type": "markdown",
   "metadata": {},
   "source": [
    "###### y = levain hydration level"
   ]
  },
  {
   "cell_type": "markdown",
   "metadata": {},
   "source": [
    "##### Solve for w1:"
   ]
  },
  {
   "cell_type": "code",
   "execution_count": 29,
   "metadata": {},
   "outputs": [
    {
     "data": {
      "text/latex": [
       "$\\displaystyle \\frac{4 f_{1}}{5} - f_{2} y + \\frac{4 f_{2}}{5} = w_{1}$"
      ],
      "text/plain": [
       "Eq(4*f1/5 - f2*y + 4*f2/5, w1)"
      ]
     },
     "execution_count": 29,
     "metadata": {},
     "output_type": "execute_result"
    }
   ],
   "source": [
    "#df6\n",
    "df8"
   ]
  },
  {
   "cell_type": "markdown",
   "metadata": {},
   "source": [
    "##### Solve Levain equation for f2 and then substitute it into Baker's Equation"
   ]
  },
  {
   "cell_type": "code",
   "execution_count": 27,
   "metadata": {},
   "outputs": [
    {
     "data": {
      "text/latex": [
       "$\\displaystyle - \\frac{L y}{2} + \\frac{2 L}{5} + \\frac{4 f_{1}}{5} = w_{1}$"
      ],
      "text/plain": [
       "Eq(-L*y/2 + 2*L/5 + 4*f1/5, w1)"
      ]
     },
     "execution_count": 27,
     "metadata": {},
     "output_type": "execute_result"
    }
   ],
   "source": [
    "df8.subs(f2, df7)"
   ]
  },
  {
   "cell_type": "markdown",
   "metadata": {},
   "source": [
    "##### y = 1 @ 100% hydration\n",
    "Basically, to calculate water needed for the autolyse, if you have 350 grams of flour left of bread flour in your cabinet and 100 grams (you pick how much) of 100% hydration levain, 80% hydration is achieved"
   ]
  },
  {
   "cell_type": "markdown",
   "metadata": {},
   "source": [
    "######  Of course this is not absolute solution due to the biological activity required. \n",
    "1) One will have to assume no change in hydration level during innolulation period.\n",
    "\n",
    "2) Assume levain is at peak activity\n"
   ]
  },
  {
   "cell_type": "code",
   "execution_count": 48,
   "metadata": {},
   "outputs": [
    {
     "data": {
      "text/latex": [
       "$\\displaystyle \\frac{L}{2}$"
      ],
      "text/plain": [
       "L/2"
      ]
     },
     "execution_count": 48,
     "metadata": {},
     "output_type": "execute_result"
    }
   ],
   "source": [
    "-25+20"
   ]
  },
  {
   "cell_type": "code",
   "execution_count": 65,
   "metadata": {},
   "outputs": [],
   "source": [
    "lvain = sp.Eq(1*f2 + f2,L)  ## Had to plug in hydration value for levain; 100% hydration Levain with 100 grams or L.\n"
   ]
  },
  {
   "cell_type": "code",
   "execution_count": null,
   "metadata": {},
   "outputs": [],
   "source": []
  },
  {
   "cell_type": "code",
   "execution_count": null,
   "metadata": {},
   "outputs": [],
   "source": []
  },
  {
   "cell_type": "code",
   "execution_count": null,
   "metadata": {},
   "outputs": [],
   "source": []
  },
  {
   "cell_type": "code",
   "execution_count": null,
   "metadata": {},
   "outputs": [],
   "source": []
  },
  {
   "cell_type": "code",
   "execution_count": null,
   "metadata": {},
   "outputs": [],
   "source": []
  },
  {
   "cell_type": "code",
   "execution_count": null,
   "metadata": {},
   "outputs": [],
   "source": []
  },
  {
   "cell_type": "code",
   "execution_count": null,
   "metadata": {},
   "outputs": [],
   "source": []
  },
  {
   "cell_type": "code",
   "execution_count": null,
   "metadata": {},
   "outputs": [],
   "source": []
  },
  {
   "cell_type": "code",
   "execution_count": null,
   "metadata": {},
   "outputs": [],
   "source": []
  },
  {
   "cell_type": "code",
   "execution_count": 2,
   "metadata": {},
   "outputs": [],
   "source": [
    "def f(x):\n",
    "    return 2*(-5*x+4*350) / 350*(5-4)\n",
    "\n",
    "##(-L + 8*x) / (10*x)"
   ]
  },
  {
   "cell_type": "code",
   "execution_count": 6,
   "metadata": {},
   "outputs": [],
   "source": [
    "import numpy as np\n",
    "import matplotlib.pyplot as plt\n",
    "\n",
    "\n",
    "L = 100\n",
    "x = np.linspace(250, 500, 20)\n",
    "\n",
    "#for x in list(range(50,900,50)):\n",
    "#    print(x, end=' ')\n",
    "#plt.plot(x,f(x))\n",
    "#plt.show()\n",
    "\n"
   ]
  },
  {
   "cell_type": "code",
   "execution_count": 3,
   "metadata": {},
   "outputs": [
    {
     "name": "stdout",
     "output_type": "stream",
     "text": [
      "[-1, 0, 1]\n"
     ]
    }
   ],
   "source": [
    "def createList(r1, r2): \n",
    "  \n",
    "    # Testing if range r1 and r2  \n",
    "    # are equal \n",
    "    if (r1 == r2): \n",
    "        return r1 \n",
    "  \n",
    "    else: \n",
    "  \n",
    "        # Create empty list \n",
    "        res = [] \n",
    "  \n",
    "        # loop to append successors to  \n",
    "        # list until r2 is reached. \n",
    "        while(r1 < r2+1 ): \n",
    "              \n",
    "            res.append(r1) \n",
    "            r1 += 1\n",
    "        return res \n",
    "      \n",
    "# Driver Code \n",
    "r1, r2 = -1, 1\n",
    "print(createList(r1, r2)) "
   ]
  },
  {
   "cell_type": "code",
   "execution_count": 4,
   "metadata": {},
   "outputs": [
    {
     "name": "stdout",
     "output_type": "stream",
     "text": [
      "[-1, 0, 1]\n",
      "250 255 260 265 270 275 280 285 290 295 300 305 310 315 320 325 330 335 340 345 350 355 360 365 370 375 380 385 390 395 400 405 410 415 420 425 430 435 440 445 450 455 460 465 470 475 480 485 490 495 "
     ]
    }
   ],
   "source": [
    "def createList(r1, r2): \n",
    "    return [item for item in range(r1, r2+1)] \n",
    "      \n",
    "# Driver Code \n",
    "r1, r2 = -1, 1\n",
    "print(createList(r1, r2)) \n",
    "#for i in range(100):\n",
    "#    if i % 3 == 0 and i % 5 == 0:\n",
    "#        print(i, 'fizzbuzz')\n",
    "#    elif i % 3 == 0:\n",
    "#        print(i,'fizz')\n",
    "#    elif i % 5 == 0:\n",
    "#        print(i,'buzz')\n",
    "for i in range(250, 500, 5):\n",
    "    print(i, end=' ')"
   ]
  },
  {
   "cell_type": "code",
   "execution_count": null,
   "metadata": {},
   "outputs": [],
   "source": []
  }
 ],
 "metadata": {
  "kernelspec": {
   "display_name": "Python 3 (ipykernel)",
   "language": "python",
   "name": "python3"
  },
  "language_info": {
   "codemirror_mode": {
    "name": "ipython",
    "version": 3
   },
   "file_extension": ".py",
   "mimetype": "text/x-python",
   "name": "python",
   "nbconvert_exporter": "python",
   "pygments_lexer": "ipython3",
   "version": "3.8.11"
  }
 },
 "nbformat": 4,
 "nbformat_minor": 4
}
