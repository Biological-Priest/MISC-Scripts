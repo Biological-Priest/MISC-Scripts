{
 "cells": [
  {
   "cell_type": "code",
   "execution_count": 61,
   "metadata": {},
   "outputs": [],
   "source": [
    "#### Calculating mixing water for autolyse in making Sourdough Bread ####\n",
    "\n",
    "import sympy as sp\n",
    "\n",
    "### Define variables\n",
    "w1, w2, f1, f2, x, y, xh, L, z, ft, fl, fw, t, p = sp.symbols('w1 w2 f1 f2 x y xh L ft z fl fw t p')\n",
    "\n",
    "## Needed Equations ##\n",
    "expr1 = sp.Eq((w1 + w2) / (f1 + f2) * 100,80)  ### Bakers % for hydration level. 80 % desire hydration ####\n",
    "expr2 = sp.Eq(w1/f1 + p*f1,80)  ### Bakers % for hydration level. 80 % desire hydration ####  p*f1 = L\n",
    "\n",
    "expr3 = sp.Eq(x*f1, w1)\n",
    "expr4 = sp.Eq(y*f2, w2)\n",
    "expr5 = sp.Eq(t*(f1), L ) ## % Levain  Z*(f1 + f2)\n",
    "expr6 = sp.Eq(f1 + f2, ft)  ### Total flour\n",
    "expr7 = sp.Eq(w1 + w2, fw)  ##Total water\n",
    "lvain = sp.Eq(1*f2 + f2,L)  ## Had to plug in hydration value for levain; 100% hydration Levain with 100 grams or L.\n",
    "lvain2 = sp.Eq(y*f2 + f2,L)\n",
    "### Subsitution of variables\n",
    "#df4 = expr1.subs(w1,x*f1)  ### Solve equation in terms of x*f1; mixing flour\n",
    "df5 = expr1.subs(w2,y*f2)   ### Solve equation for 100% hydration Levain, y = 1\n",
    "\n",
    "\n",
    "## L = x*f2 + f2; 100% hydration, x=1\n",
    "\n",
    "### Solve for equations\n",
    "df6 = sp.solve(df5,w1)[0]\n",
    "df7 = sp.solve(lvain,f2)[0]\n",
    "df11 = sp.solve(expr5,L)[0]\n",
    "\n",
    " ##levain solve for f2 in terms of L\n",
    "d = sp.Eq(y*f2 + f2,L)\n",
    "d2 = sp.solve(d, f2)[0]\n",
    "d3 = sp.Eq(d2, f2)\n",
    "\n",
    "## Hw much water needed to autolyse ##\n",
    "df8 = sp.Eq(df6,w1)\n",
    "df9 = df8.subs(f2, df7)\n",
    "df12 = df9.subs(L,df11)\n",
    "\n",
    "df13 = sp.solve(df12, t)[0]\n",
    "df14 = sp.solve(expr3,w1)[0]\n",
    "df20 = df13.subs(w1,df14)\n",
    "\n",
    "#df10\n",
    "## Hydration level before Levain ##\n",
    "#df10 = sp.solve(df9,x)\n",
    "\n",
    "### Total hydration level of Sourdough \n",
    "#rint(\"****%hydration for autolyse:\",df10, end='\\n')\n",
    "#print(\"****water needed for autolyse:\", df9)\n",
    "\n"
   ]
  },
  {
   "cell_type": "code",
   "execution_count": null,
   "metadata": {},
   "outputs": [],
   "source": []
  },
  {
   "cell_type": "markdown",
   "metadata": {},
   "source": [
    "#         Baker's Hydration: Sourdough\n",
    "\n",
    "                    ( Calculating Autolyse)"
   ]
  },
  {
   "cell_type": "markdown",
   "metadata": {},
   "source": [
    "##### Hydration is influnce by the amount of water introduced to flour.\n",
    "\n",
    "Therefore, any component containing water (and flour) need to be\n",
    " accounted.\n",
    " So, lets make a dough at 80% hydration from the Baker's Hydration definition.\n",
    " \n",
    " (Total_water/Total_flour)*100 = Hydration %"
   ]
  },
  {
   "cell_type": "code",
   "execution_count": 30,
   "metadata": {},
   "outputs": [
    {
     "data": {
      "text/latex": [
       "$\\displaystyle \\frac{100 \\left(w_{1} + w_{2}\\right)}{f_{1} + f_{2}} = 80$"
      ],
      "text/plain": [
       "Eq(100*(w1 + w2)/(f1 + f2), 80)"
      ]
     },
     "execution_count": 30,
     "metadata": {},
     "output_type": "execute_result"
    }
   ],
   "source": [
    "expr1"
   ]
  },
  {
   "cell_type": "markdown",
   "metadata": {},
   "source": [
    "##### The amount of flour and water (or hydration level) of the levain influences the overall hydration level.\n",
    "Levain Equation:\n",
    "\n",
    "    w2 = y*f2                  \"How much water to add to desired hydration level\""
   ]
  },
  {
   "cell_type": "markdown",
   "metadata": {},
   "source": [
    "##### levain = f2 + y*f2; again, hydration depends on flour used\n",
    "f2: is the flour (grams)\n",
    "\n",
    "y: hydration percentage"
   ]
  },
  {
   "cell_type": "raw",
   "metadata": {},
   "source": [
    "sp.Eq(y*f2 + f2,L)"
   ]
  },
  {
   "cell_type": "markdown",
   "metadata": {},
   "source": [
    "##### Levain Equation: Assume 100% hydration\n",
    "\n",
    "y = 1"
   ]
  },
  {
   "cell_type": "code",
   "execution_count": 49,
   "metadata": {},
   "outputs": [
    {
     "data": {
      "text/latex": [
       "$\\displaystyle 2 f_{2} = L$"
      ],
      "text/plain": [
       "Eq(2*f2, L)"
      ]
     },
     "execution_count": 49,
     "metadata": {},
     "output_type": "execute_result"
    }
   ],
   "source": [
    "lvain"
   ]
  },
  {
   "cell_type": "markdown",
   "metadata": {},
   "source": [
    "##### If you want to see what expression looks like if hydration of levain not given"
   ]
  },
  {
   "cell_type": "code",
   "execution_count": 62,
   "metadata": {
    "scrolled": true
   },
   "outputs": [
    {
     "data": {
      "text/latex": [
       "$\\displaystyle \\frac{L}{y + 1} = f_{2}$"
      ],
      "text/plain": [
       "Eq(L/(y + 1), f2)"
      ]
     },
     "execution_count": 62,
     "metadata": {},
     "output_type": "execute_result"
    }
   ],
   "source": [
    "d3 "
   ]
  },
  {
   "cell_type": "markdown",
   "metadata": {},
   "source": [
    "#####  The above equation can be substituted  into Baker's Hydration Equation\n",
    "\n",
    "##### ****Remember, levain water (grams) depends on your choice of flour used (grams)"
   ]
  },
  {
   "cell_type": "code",
   "execution_count": 31,
   "metadata": {},
   "outputs": [
    {
     "data": {
      "text/latex": [
       "$\\displaystyle \\frac{100 \\left(f_{2} y + w_{1}\\right)}{f_{1} + f_{2}} = 80$"
      ],
      "text/plain": [
       "Eq(100*(f2*y + w1)/(f1 + f2), 80)"
      ]
     },
     "execution_count": 31,
     "metadata": {},
     "output_type": "execute_result"
    }
   ],
   "source": [
    "df5"
   ]
  },
  {
   "cell_type": "markdown",
   "metadata": {},
   "source": [
    "###### y = levain hydration level"
   ]
  },
  {
   "cell_type": "markdown",
   "metadata": {},
   "source": [
    "##### Solve for w1:"
   ]
  },
  {
   "cell_type": "code",
   "execution_count": 29,
   "metadata": {},
   "outputs": [
    {
     "data": {
      "text/latex": [
       "$\\displaystyle \\frac{4 f_{1}}{5} - f_{2} y + \\frac{4 f_{2}}{5} = w_{1}$"
      ],
      "text/plain": [
       "Eq(4*f1/5 - f2*y + 4*f2/5, w1)"
      ]
     },
     "execution_count": 29,
     "metadata": {},
     "output_type": "execute_result"
    }
   ],
   "source": [
    "#df6\n",
    "df8"
   ]
  },
  {
   "cell_type": "markdown",
   "metadata": {},
   "source": [
    "##### Solve Levain equation for f2 and then substitute it into Baker's Equation"
   ]
  },
  {
   "cell_type": "code",
   "execution_count": 27,
   "metadata": {},
   "outputs": [
    {
     "data": {
      "text/latex": [
       "$\\displaystyle - \\frac{L y}{2} + \\frac{2 L}{5} + \\frac{4 f_{1}}{5} = w_{1}$"
      ],
      "text/plain": [
       "Eq(-L*y/2 + 2*L/5 + 4*f1/5, w1)"
      ]
     },
     "execution_count": 27,
     "metadata": {},
     "output_type": "execute_result"
    }
   ],
   "source": [
    "df8.subs(f2, df7)"
   ]
  },
  {
   "cell_type": "markdown",
   "metadata": {},
   "source": [
    "##### y = 1 @ 100% hydration of levain\n",
    "Basically, to calculate water needed for the autolyse, if you have 350 grams of flour left of bread flour in your cabinet and 100 grams (you pick how much) of 100% hydration levain, 80% hydration is achieved"
   ]
  }
 ],
 "metadata": {
  "kernelspec": {
   "display_name": "Python 3 (ipykernel)",
   "language": "python",
   "name": "python3"
  },
  "language_info": {
   "codemirror_mode": {
    "name": "ipython",
    "version": 3
   },
   "file_extension": ".py",
   "mimetype": "text/x-python",
   "name": "python",
   "nbconvert_exporter": "python",
   "pygments_lexer": "ipython3",
   "version": "3.8.11"
  }
 },
 "nbformat": 4,
 "nbformat_minor": 4
}
